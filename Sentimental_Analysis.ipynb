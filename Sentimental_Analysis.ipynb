{
  "cells": [
    {
      "cell_type": "code",
      "execution_count": 1,
      "metadata": {
        "colab": {
          "base_uri": "https://localhost:8080/",
          "height": 264
        },
        "id": "OqggP3zNsniZ",
        "outputId": "9477e144-5e6e-499c-a5c8-fd9d40153d8a"
      },
      "outputs": [
        {
          "data": {
            "image/png": "[encoded data removed]",
            "text/plain": [
              "<Figure size 432x288 with 1 Axes>"
            ]
          },
          "metadata": {
            "needs_background": "light",
            "tags": []
          },
          "output_type": "display_data"
        }
      ],
      "source": [
        "import tweepy\n",
        "import pandas as pd\n",
        "import matplotlib.pyplot as plt\n",
        "import numpy as np\n",
        "import textblob\n",
        "import re\n",
        "\n",
        "\n",
        "\n",
        "api_key='F6Hq8W2hScamTAiDbC8mkiSJY'\n",
        "api_key_secret='fgQUE1yX5j1aGUkbv9v76NcqCHt6RywE6gz0px8aXeJOMQsRGR'\n",
        "access_token='918824619007545345-wDZ5P7GEZMcuXCf8hS3XB2ouVjBIaVT'\n",
        "access_token_secret='lgAaydyole1RrGf2ZgKzW9oRTLnF2QjWame6jH9ATYlf4'\n",
        "\n",
        "\n",
        "authenticator=tweepy.OAuthHandler(api_key,api_key_secret)\n",
        "authenticator.set_access_token(access_token,access_token_secret)\n",
        "\n",
        "api=tweepy.API(authenticator,wait_on_rate_limit=True)\n",
        "crypt='Dogecoin'\n",
        "\n",
        "search=f'#{crypt} -filter:retweets'\n",
        "tweet_cursor=tweepy.Cursor(api.search,q=search,lang='en',tweet_mode='extended').items(100)\n",
        "tweets=[tweet.full_text for tweet in tweet_cursor]\n",
        "tweets_df=pd.DataFrame(tweets,columns=['Tweets'])\n",
        "\n",
        "for _, row in tweets_df.iterrows():\n",
        "    row['Tweets']=re.sub('http\\S+','',row['Tweets'])\n",
        "    row['Tweets']=re.sub('#\\S+','',row['Tweets'])\n",
        "    row['Tweets']=re.sub('@\\S+','',row['Tweets'])\n",
        "    row['Tweets']=re.sub('\\\\n','',row['Tweets'])\n",
        "\n",
        "tweets_df['Polarity']=tweets_df['Tweets'].map(lambda  tweet:textblob.TextBlob(tweet).sentiment.polarity)\n",
        "tweets_df['Result']=tweets_df['Polarity'].map(lambda pol: '+' if pol>0 else '-')\n",
        "\n",
        "positive=tweets_df[tweets_df.Result=='+'].count()['Tweets']\n",
        "negative=tweets_df[tweets_df.Result=='-'].count()['Tweets']\n",
        "\n",
        "plt.bar([0,1],[positive,negative],label=['positive','Negative'],color=['green','red'])\n",
        "plt.legend()\n",
        "plt.show()"
      ]
    }
  ],
  "metadata": {
    "colab": {
      "name": "Sentimental_Analysis.ipynb",
      "provenance": []
    },
    "kernelspec": {
      "display_name": "Python 3.10.7 64-bit",
      "language": "python",
      "name": "python3"
    },
    "language_info": {
      "name": "python",
      "version": "3.10.7"
    },
    "vscode": {
      "interpreter": {
        "hash": "26de051ba29f2982a8de78e945f0abaf191376122a1563185a90213a26c5da77"
      }
    }
  },
  "nbformat": 4,
  "nbformat_minor": 0
}
